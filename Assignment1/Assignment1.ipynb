{
 "cells": [
  {
   "attachments": {},
   "cell_type": "markdown",
   "metadata": {},
   "source": [
    "# TDT 4171 - Artificial Intelligence Methods\n",
    "# Assignment 1\n",
    "> Zachari THIRY -  01/17/2023"
   ]
  },
  {
   "attachments": {},
   "cell_type": "markdown",
   "metadata": {},
   "source": [
    "## Exercise 1\n",
    "Consider the set of all possible five-card poker hands dealt fairly from a standard deck of fifty-two\n",
    "cards.\n",
    "> a. How many atomic events are there in the joint probability distribution (i.e., how many\n",
    "five-card hands are there)?\n"
   ]
  },
  {
   "attachments": {},
   "cell_type": "markdown",
   "metadata": {},
   "source": [
    "The number of different outcomes, or atomic events, is the number of combinations of 5 among 52 items : \\n\n",
    "\n",
    "Let $N$ be the number of atomic events : \n",
    "\n",
    "$$N = {\\binom{n}{k} = \\frac{n!}{k!(n-k)!}}$$\n",
    "\n",
    "$$N = {\\binom{52}{5} = {52! \\over (47!) \\cdot 5!} = 2.59896\\mathrm{e}{+6}}$$"
   ]
  },
  {
   "attachments": {},
   "cell_type": "markdown",
   "metadata": {},
   "source": [
    "> b. What is the probability of each atomic event?\n"
   ]
  },
  {
   "attachments": {},
   "cell_type": "markdown",
   "metadata": {},
   "source": [
    "Under the assumption of a \"hand dealt fairly\", one can assume uniform distribution. As such, let $\\varepsilon$ be an atomic event, $\\Omega$ the universe of possible : <br/>\n",
    "$${\\forall \\varepsilon \\in \\Omega, \\\\P(\\varepsilon) = \\frac{1}{2.598\\mathrm{e}{+6}}}"
   ]
  },
  {
   "attachments": {},
   "cell_type": "markdown",
   "metadata": {},
   "source": [
    "> c. What is the probability of being dealt a royal straight flush? Four of a kind?"
   ]
  },
  {
   "attachments": {},
   "cell_type": "markdown",
   "metadata": {},
   "source": [
    "There are only 4 royal straight flushes. To compute the probability of being dealt with it in a uniform environment, we sum the atomic events over their probability : \n",
    "$$\\\\P(\"being\\ dealt\\ with\\ a\\ straight\\ royal\\ flush\") = \\frac{4}{2598960} = \\frac{1}{1540000}$$\n",
    "The probability of being dealt with 4 of a kind is described the following way : \n",
    "- Chosse 1 number for the unique card\n",
    "- Choose 1 number for the four identical cards\n",
    "- Pick the four identical cards\n",
    "- Pick one card out of the remaining ones\n",
    "\n",
    "As a probability, we can write : let $e$ = {\"Be dealt 4 of a kind\" } : <br/>\n",
    "$$ \\\\P(e) = {\\frac{1}{ \\binom{13}{1} \\binom{12}{1} \\binom{4}{4} \\binom{48}{1}} }"
   ]
  },
  {
   "attachments": {},
   "cell_type": "markdown",
   "metadata": {},
   "source": [
    "## Exercise 2"
   ]
  },
  {
   "attachments": {},
   "cell_type": "markdown",
   "metadata": {},
   "source": [
    "Deciding to put probability theory to good use, we encounter a slot machine with three independent wheels, each producing one of the four symbols BAR, BELL, LEMON, or CHERRY with equal probability. The slot machine has the following payout scheme for a bet of 1 coin (where “?” denotes that we don’t care what comes up for that wheel): <br/><br/>\n",
    "- (BA3) BAR/BAR/BAR pays 20 coins\n",
    "- (BE3) BELL/BELL/BELL pays 15 coins\n",
    "- (LE3) LEMON/LEMON/LEMON pays 5 coins\n",
    "- (CH3) CHERRY/CHERRY/CHERRY pays 3 coins\n",
    "- (CH2) CHERRY/CHERRY/? pays 2 coins\n",
    "- (CH1) CHERRY/?/? pays 1 coin\n",
    ">a. Compute the expected “payback” percentage of the machine. In other words, for each coin\n",
    "played, what is the expected coin return?\n"
   ]
  },
  {
   "attachments": {},
   "cell_type": "markdown",
   "metadata": {},
   "source": [
    "Let's first determine some probabilities : <br/>\n",
    "$$\\begin{aligned}\n",
    "{\\\\P(BA_3) = \\\\P(BE_3) = \\\\P(LE_3) = \\\\P(CH_3) = \\frac{1}{4^3}}\\\\\n",
    "{{\\\\P(CH_2) = \\frac{1}{4^2}} - \\\\P(CH_3)} = 0.04685\\\\\n",
    "{{\\\\P(CH_1) = \\frac{1}{4}} - \\\\P(CH_2) - \\\\P(CH_3)} = 0.171875 \\\\\n",
    "\\end{aligned}$$\n",
    "<br/>\n",
    "And now, looking at the expectation :"
   ]
  },
  {
   "attachments": {},
   "cell_type": "markdown",
   "metadata": {},
   "source": [
    "${\\\\E_{\\Omega}(X) = \\sum_{x \\in X} f(x)\\\\P(x = \\omega)}$"
   ]
  },
  {
   "cell_type": "code",
   "execution_count": 1,
   "metadata": {},
   "outputs": [
    {
     "name": "stdout",
     "output_type": "stream",
     "text": [
      "One can expect a return of 0.93745 for each coin played\n"
     ]
    }
   ],
   "source": [
    "E = 1 * 0.171875 + 2 * (0.04685) + (3 + 5 + 15 + 20) * 1/4**3\n",
    "print(f\"One can expect a return of {E} for each coin played\")"
   ]
  },
  {
   "attachments": {},
   "cell_type": "markdown",
   "metadata": {},
   "source": [
    ">b. Compute the probability that playing the slot machine once will result in a win.\n"
   ]
  },
  {
   "attachments": {},
   "cell_type": "markdown",
   "metadata": {},
   "source": [
    "The game resulting in a win means getting one of the possible outcomes :\n",
    "- There are $4*4*4 = 64$  possible outcomes\n",
    "- $4*4$ oucomes for \"$CH_1$\"\n",
    "- $4$ outcomes for \"$CH_2$\"\n",
    "- $1$ outcome for each of the $XX_3$ so 4 total\"\n",
    "\n",
    "$$\\\\P(\"win\") = \\frac{\\sum winning\\ outcomes}{possible\\ outcomes} = \\frac {(16) + (4) + (4*1)}{64} = 0.328125"
   ]
  },
  {
   "attachments": {},
   "cell_type": "markdown",
   "metadata": {},
   "source": [
    ">c. Estimate the mean and median number of plays you can expect to make until you go broke,if you start with 10 coins. Run a simulation in Python to estimate this. Add your results\n",
    "to your PDF report.\n"
   ]
  },
  {
   "cell_type": "code",
   "execution_count": 2,
   "metadata": {},
   "outputs": [],
   "source": [
    "import random\n",
    "import numpy as np\n",
    "\n",
    "class Machine:\n",
    "\n",
    "    def __init__(self, initial_bet:int):\n",
    "        self.classes = [\"BAR\", \"BELL\", \"LEMON\", \"CHERRY\"]\n",
    "        self.balance = initial_bet\n",
    "        self.iteration = 0\n",
    "    \n",
    "    def reward(self, output):\n",
    "        reward = 0\n",
    "        if output[0:1] == [\"CHERRY\"]: reward = 1\n",
    "        if output[0:2] == [\"CHERRY\", \"CHERRY\"]: reward = 2\n",
    "        if output == [\"CHERRY\", \"CHERRY\", \"CHERRY\"]: reward = 3\n",
    "        if output == [\"LEMON\", \"LEMON\", \"LEMON\"]: reward = 5\n",
    "        if output == [\"BELL\", \"BELL\", \"BELL\"]: reward = 15\n",
    "        if output == [\"BAR\", \"BAR\", \"BAR\"]: reward = 20\n",
    "\n",
    "        return reward\n",
    "\n",
    "    def run(self):\n",
    "        result = np.random.choice(self.classes, 3).tolist()\n",
    "        self.balance += self.reward(result) - 1\n",
    "        self.iteration += 1\n",
    "        if self.balance == 0 :\n",
    "            raise Exception(\"Ran out of balance\")\n",
    "    \n",
    "    def get_iteration(self):\n",
    "        return self.iteration\n"
   ]
  },
  {
   "cell_type": "code",
   "execution_count": 3,
   "metadata": {},
   "outputs": [
    {
     "name": "stdout",
     "output_type": "stream",
     "text": [
      "Average flight time is estimated to 171.267 for N = 1000\n",
      "Median flight time is estimated to 20 for N = 1000\n"
     ]
    }
   ],
   "source": [
    "N = 1000\n",
    "initial_bet = 10\n",
    "\n",
    "Iterations = []\n",
    "\n",
    "for i in range(N):\n",
    "    M = Machine(initial_bet)\n",
    "    while(True):\n",
    "        try:\n",
    "            M.run()\n",
    "        except Exception:\n",
    "            break\n",
    "    Iterations.append(M.get_iteration())\n",
    "\n",
    "average = sum(Iterations)/len(Iterations)\n",
    "median = sorted(Iterations)[int(len(Iterations)/2)]\n",
    "\n",
    "print(f\"Average flight time is estimated to {average} for N = {N}\")\n",
    "print(f\"Median flight time is estimated to {median} for N = {N}\")"
   ]
  },
  {
   "attachments": {},
   "cell_type": "markdown",
   "metadata": {},
   "source": [
    "## Exercise 3\n",
    "This exercise consists of two parts that ask you to run simulations to compute the answers instead of trying to compute exact answers. Add your answers to your PDF report.\n",
    "### Part 1 : \n",
    "Peter is interested in knowing the possibility that at least two people from a group of N people have a birthday on the same day. Your task is to find out what N has to be for this event to occur with at least 50% chance. We will disregard the existence of leap years and assume there are 365 days in a year that are equally likely to be the birthday of a randomly selected person. <br/>\n",
    "<br/>\n",
    "\n",
    ">a. Create a function that takes N and computes the probability of the event via simulation."
   ]
  },
  {
   "cell_type": "code",
   "execution_count": 4,
   "metadata": {},
   "outputs": [],
   "source": [
    "def find_birthday_probability(N:int) -> float :\n",
    "    P_collision = 1\n",
    "    for i in range(0,N):\n",
    "        P_collision *= (365-i)/365\n",
    "    return 1-P_collision"
   ]
  },
  {
   "cell_type": "code",
   "execution_count": 5,
   "metadata": {},
   "outputs": [
    {
     "name": "stdout",
     "output_type": "stream",
     "text": [
      "The probability of having colliding birthday among 22 people is P_collision = 0.4756953076625503\n"
     ]
    }
   ],
   "source": [
    "N = 22\n",
    "P_collision = find_birthday_probability(N)\n",
    "print(f\"The probability of having colliding birthday among {N} people is P_collision = {P_collision}\")"
   ]
  },
  {
   "attachments": {},
   "cell_type": "markdown",
   "metadata": {},
   "source": [
    ">b. Use the function created in the previous task to compute the probability of the event given\n",
    "N in the interval [10, 50]. In this interval, what is the proportion of N where the event\n",
    "happens with the least 50% chance? What is the smallest N where the probability of the\n",
    "event occurring is at least 50%?\n"
   ]
  },
  {
   "cell_type": "code",
   "execution_count": 6,
   "metadata": {},
   "outputs": [
    {
     "name": "stdout",
     "output_type": "stream",
     "text": [
      "N  | Probability\n",
      "10 | 0.11694817771107768\n",
      "11 | 0.14114137832173312\n",
      "12 | 0.1670247888380645\n",
      "13 | 0.19441027523242949\n",
      "14 | 0.2231025120049731\n",
      "15 | 0.25290131976368646\n",
      "16 | 0.2836040052528501\n",
      "17 | 0.3150076652965609\n",
      "18 | 0.3469114178717896\n",
      "19 | 0.37911852603153695\n",
      "20 | 0.41143838358058027\n",
      "21 | 0.443688335165206\n",
      "22 | 0.4756953076625503\n",
      "23 | 0.5072972343239857\n",
      "24 | 0.538344257914529\n",
      "25 | 0.568699703969464\n",
      "26 | 0.598240820135939\n",
      "27 | 0.6268592822632421\n",
      "28 | 0.6544614723423995\n",
      "29 | 0.6809685374777771\n",
      "30 | 0.7063162427192688\n",
      "31 | 0.7304546337286439\n",
      "32 | 0.7533475278503208\n",
      "33 | 0.7749718541757721\n",
      "34 | 0.7953168646201543\n",
      "35 | 0.8143832388747153\n",
      "36 | 0.8321821063798795\n",
      "37 | 0.8487340082163846\n",
      "38 | 0.864067821082121\n",
      "39 | 0.878219664366722\n",
      "40 | 0.891231809817949\n",
      "41 | 0.9031516114817354\n",
      "42 | 0.9140304715618692\n",
      "43 | 0.9239228556561199\n",
      "44 | 0.9328853685514263\n",
      "45 | 0.940975899465775\n",
      "46 | 0.9482528433672548\n",
      "47 | 0.9547744028332994\n",
      "48 | 0.9605979728794225\n",
      "49 | 0.9657796093226765\n",
      "#####################################################\n",
      "Minimum N such that P_collision > 0.5 is : 23\n",
      "Proportion of Ns where P_collision > 0.5 is 0.675\n"
     ]
    }
   ],
   "source": [
    "Range = range(10,50)\n",
    "\n",
    "print(\"N  | Probability\")\n",
    "min_N = None\n",
    "count_N = 0\n",
    "\n",
    "for N in range(10,50) : \n",
    "    P_collision = find_birthday_probability(N)\n",
    "    print(f\"{N} | {P_collision}\")\n",
    "\n",
    "    if P_collision > 0.5 :\n",
    "        count_N += 1\n",
    "        min_N = N if min_N == None else min_N\n",
    "\n",
    "print(\"#####################################################\")\n",
    "print(f\"Minimum N such that P_collision > 0.5 is : {min_N}\")\n",
    "print(f\"Proportion of Ns where P_collision > 0.5 is {count_N/len(Range)}\")\n"
   ]
  },
  {
   "attachments": {},
   "cell_type": "markdown",
   "metadata": {},
   "source": [
    "### Part 2\n",
    "Peter wants to form a group where every day of the year is a birthday (i.e., for every day of the\n",
    "year, there must be at least one person from the group who has a birthday). He starts with an\n",
    "empty group, and then proceeds with the following loop:\n",
    "1. Add a random person to the group.\n",
    "2. Check whether all days of the year are covered.\n",
    "3. Go back to step 1 if not all days of the year have at least one birthday person from\n",
    "the group.\n",
    "\n",
    "> a. How large a group should Peter expect to form? Make the same assumption about leap\n",
    "years as in Part 1.\n"
   ]
  },
  {
   "cell_type": "code",
   "execution_count": 7,
   "metadata": {},
   "outputs": [],
   "source": [
    "import random\n",
    "\n",
    "def check_group(Group):\n",
    "    for i in range(1,366):\n",
    "        if not i in Group:\n",
    "            return False\n",
    "    return True\n",
    "\n",
    "\n",
    "\n",
    "def find_group_size(loops:int = 10):\n",
    "    sizes = []\n",
    "    for i in range(loops):\n",
    "        group = []\n",
    "        while not check_group(group):\n",
    "            group.append(random.randrange(1,366))\n",
    "        sizes.append(len(group))\n",
    "\n",
    "    return sum(sizes)/len(sizes)"
   ]
  },
  {
   "cell_type": "code",
   "execution_count": 8,
   "metadata": {},
   "outputs": [
    {
     "name": "stdout",
     "output_type": "stream",
     "text": [
      "Based on a 20 loops simulation, the expected size of the group is of 2189.55 persons\n"
     ]
    }
   ],
   "source": [
    "Loops = 20\n",
    "\n",
    "print(f\"Based on a {Loops} loops simulation, the expected size of the group is of {find_group_size(Loops)} persons\")"
   ]
  }
 ],
 "metadata": {
  "kernelspec": {
   "display_name": ".venv",
   "language": "python",
   "name": "python3"
  },
  "language_info": {
   "codemirror_mode": {
    "name": "ipython",
    "version": 3
   },
   "file_extension": ".py",
   "mimetype": "text/x-python",
   "name": "python",
   "nbconvert_exporter": "python",
   "pygments_lexer": "ipython3",
   "version": "3.8.10 (default, Nov 14 2022, 12:59:47) \n[GCC 9.4.0]"
  },
  "orig_nbformat": 4,
  "vscode": {
   "interpreter": {
    "hash": "9757a70ba4d816a920a6c9b633aa546fef0e18becff51ccc42d9b4c0ff316dd5"
   }
  }
 },
 "nbformat": 4,
 "nbformat_minor": 2
}
